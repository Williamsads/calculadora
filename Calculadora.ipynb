{
 "cells": [
  {
   "cell_type": "markdown",
   "id": "22d6912a",
   "metadata": {},
   "source": [
    "INICIO\n",
    "\n",
    "Exiba \"Bem-Vindo à Calculadora\"\n",
    "peça para o usuário inserir o primeiro número\n",
    "Armazene o primeiro número em uma variável\n",
    "peça para o usuário inserir o segundo número\n",
    "Armazene o segundo número em uma variável\n",
    "Peça para o usuário selecionar uma operação (+, -, *, /)\n",
    "armazene a operação em uma variável\n",
    "utilize a operação selecionada e os números armazenados para realizar o cálculo\n",
    "\n",
    "FIM"
   ]
  },
  {
   "cell_type": "code",
   "execution_count": 27,
   "id": "2e2e83bb",
   "metadata": {},
   "outputs": [
    {
     "name": "stdout",
     "output_type": "stream",
     "text": [
      "Bem-Vindo à Calculadora\n"
     ]
    }
   ],
   "source": [
    "print(\"Bem-Vindo à Calculadora\")"
   ]
  },
  {
   "cell_type": "code",
   "execution_count": 28,
   "id": "42776ab7",
   "metadata": {},
   "outputs": [
    {
     "name": "stdout",
     "output_type": "stream",
     "text": [
      "Insira um número: 10\n"
     ]
    }
   ],
   "source": [
    "Num1 = float(input(\"Insira um número: \"))"
   ]
  },
  {
   "cell_type": "code",
   "execution_count": 30,
   "id": "6866fc96",
   "metadata": {},
   "outputs": [
    {
     "name": "stdout",
     "output_type": "stream",
     "text": [
      "Insira o segundo número: 10\n"
     ]
    }
   ],
   "source": [
    "Num2 = float(input(\"Insira o segundo número: \"))"
   ]
  },
  {
   "cell_type": "code",
   "execution_count": 32,
   "id": "a3e6bdff",
   "metadata": {},
   "outputs": [
    {
     "name": "stdout",
     "output_type": "stream",
     "text": [
      "escolha uma operação: (+, -, *, /): +\n"
     ]
    }
   ],
   "source": [
    "operação = input(\"escolha uma operação: (+, -, *, /): \")"
   ]
  },
  {
   "cell_type": "code",
   "execution_count": 34,
   "id": "ecbd3def",
   "metadata": {},
   "outputs": [
    {
     "name": "stdout",
     "output_type": "stream",
     "text": [
      "O Resultado e igual: 20.0\n"
     ]
    }
   ],
   "source": [
    "if operação == \"+\":\n",
    "    Resultado = Num1 + Num2\n",
    "    print(f'O Resultado e igual: {Resultado}')\n",
    "    \n",
    "elif operação == \"-\":\n",
    "    Resultado = Num1 - Num2\n",
    "    print(f'O Resultado é: {Resultado}')\n",
    "    \n",
    "elif operação == \"*\":\n",
    "    Resultado = Num1 * Num2\n",
    "    print(f'O Resultado é: {Resultado}')\n",
    "\n",
    "elif operação == \"/\":\n",
    "     Resultado = Num1 / Num2\n",
    "     print(f'O Resultado é: {Resultado}')\n",
    "\n",
    "else:\n",
    "    print(\"operação invalida.\")\n",
    "    \n",
    "    "
   ]
  },
  {
   "cell_type": "code",
   "execution_count": null,
   "id": "c22fd6cc",
   "metadata": {},
   "outputs": [],
   "source": []
  },
  {
   "cell_type": "code",
   "execution_count": null,
   "id": "fc9e9d03",
   "metadata": {},
   "outputs": [],
   "source": []
  }
 ],
 "metadata": {
  "kernelspec": {
   "display_name": "Python 3 (ipykernel)",
   "language": "python",
   "name": "python3"
  },
  "language_info": {
   "codemirror_mode": {
    "name": "ipython",
    "version": 3
   },
   "file_extension": ".py",
   "mimetype": "text/x-python",
   "name": "python",
   "nbconvert_exporter": "python",
   "pygments_lexer": "ipython3",
   "version": "3.9.13"
  }
 },
 "nbformat": 4,
 "nbformat_minor": 5
}
